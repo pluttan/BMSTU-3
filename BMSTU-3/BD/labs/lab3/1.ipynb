{
 "cells": [
  {
   "cell_type": "code",
   "execution_count": 10,
   "metadata": {},
   "outputs": [
    {
     "name": "stdout",
     "output_type": "stream",
     "text": [
      "Всего чисел: 80\n",
      "Среднее значение: 7.03\n",
      "Дисперсия: 0.04\n",
      "Точечная дисперсия: 0.20\n",
      "Число 6.5 повторяется 1 раз(а)\n",
      "Число 6.7 повторяется 5 раз(а)\n",
      "Число 6.8 повторяется 10 раз(а)\n",
      "Число 6.9 повторяется 12 раз(а)\n",
      "Число 7.0 повторяется 16 раз(а)\n",
      "Число 7.1 повторяется 17 раз(а)\n",
      "Число 7.2 повторяется 10 раз(а)\n",
      "Число 7.3 повторяется 4 раз(а)\n",
      "Число 7.4 повторяется 1 раз(а)\n",
      "Число 7.5 повторяется 3 раз(а)\n",
      "Число 7.6 повторяется 1 раз(а)\n"
     ]
    },
    {
     "data": {
      "image/png": "[encoded data removed]",
      "text/plain": [
       "<Figure size 640x480 with 1 Axes>"
      ]
     },
     "metadata": {},
     "output_type": "display_data"
    }
   ],
   "source": [
    "numbers = [\n",
    "    7.1,\n",
    "    6.7,\n",
    "    7.0,\n",
    "    7.3,\n",
    "    7.2,\n",
    "    7.1,\n",
    "    6.9,\n",
    "    6.8,\n",
    "    7.5,\n",
    "    7.0,\n",
    "    7.0,\n",
    "    7.1,\n",
    "    7.1,\n",
    "    6.8,\n",
    "    7.2,\n",
    "    7.0,\n",
    "    7.2,\n",
    "    6.9,\n",
    "    6.7,\n",
    "    6.9,\n",
    "    6.9,\n",
    "    7.0,\n",
    "    7.0,\n",
    "    6.8,\n",
    "    6.9,\n",
    "    7.0,\n",
    "    7.0,\n",
    "    7.1,\n",
    "    6.8,\n",
    "    7.1,\n",
    "    7.2,\n",
    "    7.1,\n",
    "    6.9,\n",
    "    6.7,\n",
    "    7.1,\n",
    "    6.9,\n",
    "    6.9,\n",
    "    7.1,\n",
    "    7.0,\n",
    "    7.3,\n",
    "    6.8,\n",
    "    7.3,\n",
    "    7.4,\n",
    "    6.8,\n",
    "    7.2,\n",
    "    7.2,\n",
    "    6.8,\n",
    "    6.7,\n",
    "    7.3,\n",
    "    7.1,\n",
    "    6.9,\n",
    "    7.6,\n",
    "    7.0,\n",
    "    6.5,\n",
    "    7.1,\n",
    "    7.2,\n",
    "    7.0,\n",
    "    7.0,\n",
    "    6.9,\n",
    "    7.0,\n",
    "    6.7,\n",
    "    6.8,\n",
    "    7.1,\n",
    "    7.2,\n",
    "    7.1,\n",
    "    7.5,\n",
    "    7.1,\n",
    "    6.8,\n",
    "    6.9,\n",
    "    7.2,\n",
    "    7.2,\n",
    "    6.9,\n",
    "    7.1,\n",
    "    7.5,\n",
    "    7.0,\n",
    "    7.1,\n",
    "    7.0,\n",
    "    7.1,\n",
    "    6.8,\n",
    "    7.0,\n",
    "]\n",
    "from collections import Counter\n",
    "from math import sqrt\n",
    "import matplotlib.pyplot as plt\n",
    "\n",
    "\n",
    "total = sum(numbers)\n",
    "count = len(numbers)\n",
    "print(f\"Всего чисел: {count}\")\n",
    "average = total / count\n",
    "print(f\"Среднее значение: {average:.2f}\")\n",
    "variance = sum((x - average) ** 2 for x in numbers) / count\n",
    "print(f\"Дисперсия: {variance:.2f}\")\n",
    "print(f\"Точечная дисперсия: {sqrt(variance):.2f}\")\n",
    "counted_numbers = Counter(numbers)\n",
    "sorted_counts = sorted(counted_numbers.items(), key=lambda x: x[0])\n",
    "for number, count in sorted_counts:\n",
    "    print(f\"Число {number} повторяется {count} раз(а)\")\n",
    "limited_counts = sorted_counts[:100]\n",
    "x = [number for number, _ in limited_counts]\n",
    "y = [count for _, count in limited_counts]\n",
    "colors = [\n",
    "    \"red\",\n",
    "    \"green\",\n",
    "    \"blue\",\n",
    "    \"orange\",\n",
    "    \"purple\",\n",
    "]\n",
    "plt.bar(x, y, color=colors[: len(x)])\n",
    "plt.xlabel(\"Число\")\n",
    "plt.ylabel(\"Количество повторений\")\n",
    "plt.title(\"Гистограмма повторяющихся чисел\")\n",
    "plt.show()"
   ]
  },
  {
   "cell_type": "code",
   "execution_count": 11,
   "metadata": {},
   "outputs": [
    {
     "name": "stdout",
     "output_type": "stream",
     "text": [
      "0.041993749999999976 3.359499999999998\n",
      "0.20492376631323164\n",
      "78.0\n"
     ]
    }
   ],
   "source": [
    "sm = 0\n",
    "for i in set(numbers):\n",
    "    sm += numbers.count(i)*((i-7.0275)**2)\n",
    "print(sm/80, sm)\n",
    "print((sm/80)**0.5)\n",
    "print(6.5+6.7+6.8+6.9+7.0+7.1+7.2+7.3+7.4+7.5+7.6)"
   ]
  },
  {
   "cell_type": "code",
   "execution_count": 12,
   "metadata": {},
   "outputs": [
    {
     "name": "stdout",
     "output_type": "stream",
     "text": [
      "-1.4595315323247912e+16\n"
     ]
    }
   ],
   "source": [
    "from math import sqrt,pi\n",
    "hm = 226.4/(4*pi*(10**-7)*3*(10**8))\n",
    "em = 226.4\n",
    "e0 = 8.85 * 10**-12\n",
    "mu0 = 4*pi*(10**-7)\n",
    "s = 135.6\n",
    "c = 3*(10**8)\n",
    "k = 0.52\n",
    "\n",
    "print(-(k**2)*(c**2)*sqrt(s/(mu0*c)))"
   ]
  }
 ],
 "metadata": {
  "kernelspec": {
   "display_name": "Python 3",
   "language": "python",
   "name": "python3"
  },
  "language_info": {
   "codemirror_mode": {
    "name": "ipython",
    "version": 3
   },
   "file_extension": ".py",
   "mimetype": "text/x-python",
   "name": "python",
   "nbconvert_exporter": "python",
   "pygments_lexer": "ipython3",
   "version": "3.7.5"
  }
 },
 "nbformat": 4,
 "nbformat_minor": 2
}
