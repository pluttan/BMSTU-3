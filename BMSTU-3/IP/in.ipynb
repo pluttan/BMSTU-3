{
 "cells": [
  {
   "cell_type": "code",
   "execution_count": 1,
   "metadata": {},
   "outputs": [
    {
     "name": "stdout",
     "output_type": "stream",
     "text": [
      "Requirement already satisfied: Flask in /Library/Frameworks/Python.framework/Versions/3.10/lib/python3.10/site-packages (2.3.3)\n",
      "Requirement already satisfied: Werkzeug>=2.3.7 in /Library/Frameworks/Python.framework/Versions/3.10/lib/python3.10/site-packages (from Flask) (2.3.7)\n",
      "Requirement already satisfied: Jinja2>=3.1.2 in /Library/Frameworks/Python.framework/Versions/3.10/lib/python3.10/site-packages (from Flask) (3.1.2)\n",
      "Requirement already satisfied: itsdangerous>=2.1.2 in /Library/Frameworks/Python.framework/Versions/3.10/lib/python3.10/site-packages (from Flask) (2.1.2)\n",
      "Requirement already satisfied: click>=8.1.3 in /Library/Frameworks/Python.framework/Versions/3.10/lib/python3.10/site-packages (from Flask) (8.1.3)\n",
      "Requirement already satisfied: blinker>=1.6.2 in /Library/Frameworks/Python.framework/Versions/3.10/lib/python3.10/site-packages (from Flask) (1.6.2)\n",
      "Requirement already satisfied: MarkupSafe>=2.0 in /Library/Frameworks/Python.framework/Versions/3.10/lib/python3.10/site-packages (from Jinja2>=3.1.2->Flask) (2.1.1)\n"
     ]
    }
   ],
   "source": [
    "!pip install Flask\n"
   ]
  },
  {
   "cell_type": "code",
   "execution_count": 2,
   "metadata": {},
   "outputs": [
    {
     "name": "stdout",
     "output_type": "stream",
     "text": [
      " * Serving Flask app '__main__'\n",
      " * Debug mode: off\n"
     ]
    },
    {
     "name": "stderr",
     "output_type": "stream",
     "text": [
      "\u001b[31m\u001b[1mWARNING: This is a development server. Do not use it in a production deployment. Use a production WSGI server instead.\u001b[0m\n",
      " * Running on all addresses (0.0.0.0)\n",
      " * Running on http://127.0.0.1:8000\n",
      " * Running on http://192.168.31.158:8000\n",
      "\u001b[33mPress CTRL+C to quit\u001b[0m\n",
      "127.0.0.1 - - [28/Sep/2023 22:48:31] \"GET / HTTP/1.1\" 200 -\n",
      "127.0.0.1 - - [28/Sep/2023 22:48:39] \"GET /today/ HTTP/1.1\" 200 -\n",
      "127.0.0.1 - - [28/Sep/2023 22:48:40] \"GET /tommorow/ HTTP/1.1\" 200 -\n",
      "127.0.0.1 - - [28/Sep/2023 22:51:58] \"GET /tommorow/ HTTP/1.1\" 200 -\n"
     ]
    }
   ],
   "source": [
    "from datetime import date\n",
    "from flask import Flask\n",
    "\n",
    "app = Flask(__name__)\n",
    "\n",
    "\n",
    "@app.route(\"/\")\n",
    "def hello():\n",
    "    return '<a href = \"http://127.0.0.1:8000/today/\">today</a><br/><a href = \"http://127.0.0.1:8000/tommorow/\">tommorow</a><br/>'\n",
    "\n",
    "\n",
    "@app.route(\"/today/\")\n",
    "def today():\n",
    "    today = date.today()\n",
    "    return f'''<h1 style = \"font-style: italic; color: #FA7080\">Today's date is {today.day}.{today.month}.{today.year}'''\n",
    "\n",
    "\n",
    "@app.route(\"/tommorow/\")\n",
    "def tommorow():\n",
    "    tommorow = date.fromordinal(date.today().toordinal()+1)\n",
    "    return f'''<h1 style = \"font-style: italic; color: #6A48D7\">Tomorrow's date is {tommorow.day}.{tommorow.month}.{tommorow.year}'''\n",
    "\n",
    "\n",
    "app.run(\"0.0.0.0\", 8000)"
   ]
  },
  {
   "cell_type": "code",
   "execution_count": null,
   "metadata": {},
   "outputs": [
    {
     "ename": "ValueError",
     "evalue": "urls must start with a leading slash",
     "output_type": "error",
     "traceback": [
      "\u001b[0;31m---------------------------------------------------------------------------\u001b[0m\n",
      "\u001b[0;31mValueError\u001b[0m                                Traceback (most recent call last)\n",
      "\u001b[1;32m/Users/pluttan/Desktop/_Sem3/BMSTU-3/IP/in.ipynb Ячейка 2\u001b[0m line \u001b[0;36m7\n",
      "\u001b[1;32m      <a href='vscode-notebook-cell:/Users/pluttan/Desktop/_Sem3/BMSTU-3/IP/in.ipynb#W3sZmlsZQ%3D%3D?line=1'>2</a>\u001b[0m \u001b[39mfrom\u001b[39;00m \u001b[39mflask\u001b[39;00m \u001b[39mimport\u001b[39;00m Flask\n",
      "\u001b[1;32m      <a href='vscode-notebook-cell:/Users/pluttan/Desktop/_Sem3/BMSTU-3/IP/in.ipynb#W3sZmlsZQ%3D%3D?line=3'>4</a>\u001b[0m app \u001b[39m=\u001b[39m Flask(\u001b[39m__name__\u001b[39m)\n",
      "\u001b[0;32m----> <a href='vscode-notebook-cell:/Users/pluttan/Desktop/_Sem3/BMSTU-3/IP/in.ipynb#W3sZmlsZQ%3D%3D?line=6'>7</a>\u001b[0m \u001b[39m@app\u001b[39;49m\u001b[39m.\u001b[39;49mroute(\u001b[39m\"\u001b[39;49m\u001b[39mtoday/\u001b[39;49m\u001b[39m\"\u001b[39;49m)\n",
      "\u001b[1;32m      <a href='vscode-notebook-cell:/Users/pluttan/Desktop/_Sem3/BMSTU-3/IP/in.ipynb#W3sZmlsZQ%3D%3D?line=7'>8</a>\u001b[0m \u001b[39mdef\u001b[39;49;00m \u001b[39mhello_world\u001b[39;49m():\n",
      "\u001b[1;32m      <a href='vscode-notebook-cell:/Users/pluttan/Desktop/_Sem3/BMSTU-3/IP/in.ipynb#W3sZmlsZQ%3D%3D?line=8'>9</a>\u001b[0m     today \u001b[39m=\u001b[39;49m date\u001b[39m.\u001b[39;49mtoday()\n",
      "\u001b[1;32m     <a href='vscode-notebook-cell:/Users/pluttan/Desktop/_Sem3/BMSTU-3/IP/in.ipynb#W3sZmlsZQ%3D%3D?line=9'>10</a>\u001b[0m     \u001b[39mreturn\u001b[39;49;00m \u001b[39mf\u001b[39;49m\u001b[39m'''\u001b[39;49m\u001b[39m<h1 style = \u001b[39;49m\u001b[39m\"\u001b[39;49m\u001b[39mfont-style: italic; color: #FA7080\u001b[39;49m\u001b[39m\"\u001b[39;49m\u001b[39m>Today\u001b[39;49m\u001b[39m'\u001b[39;49m\u001b[39ms date is \u001b[39;49m\u001b[39m{\u001b[39;49;00mtoday\u001b[39m.\u001b[39;49mday\u001b[39m}\u001b[39;49;00m\u001b[39m.\u001b[39;49m\u001b[39m{\u001b[39;49;00mtoday\u001b[39m.\u001b[39;49mmonth\u001b[39m}\u001b[39;49;00m\u001b[39m.\u001b[39;49m\u001b[39m{\u001b[39;49;00mtoday\u001b[39m.\u001b[39;49myear\u001b[39m}\u001b[39;49;00m\u001b[39m'''\u001b[39;49m\n",
      "\n",
      "File \u001b[0;32m/Library/Frameworks/Python.framework/Versions/3.11/lib/python3.11/site-packages/flask/scaffold.py:449\u001b[0m, in \u001b[0;36mScaffold.route.<locals>.decorator\u001b[0;34m(f)\u001b[0m\n",
      "\u001b[1;32m    447\u001b[0m \u001b[39mdef\u001b[39;00m \u001b[39mdecorator\u001b[39m(f: T_route) \u001b[39m-\u001b[39m\u001b[39m>\u001b[39m T_route:\n",
      "\u001b[1;32m    448\u001b[0m     endpoint \u001b[39m=\u001b[39m options\u001b[39m.\u001b[39mpop(\u001b[39m\"\u001b[39m\u001b[39mendpoint\u001b[39m\u001b[39m\"\u001b[39m, \u001b[39mNone\u001b[39;00m)\n",
      "\u001b[0;32m--> 449\u001b[0m     \u001b[39mself\u001b[39;49m\u001b[39m.\u001b[39;49madd_url_rule(rule, endpoint, f, \u001b[39m*\u001b[39;49m\u001b[39m*\u001b[39;49moptions)\n",
      "\u001b[1;32m    450\u001b[0m     \u001b[39mreturn\u001b[39;00m f\n",
      "\n",
      "File \u001b[0;32m/Library/Frameworks/Python.framework/Versions/3.11/lib/python3.11/site-packages/flask/scaffold.py:50\u001b[0m, in \u001b[0;36msetupmethod.<locals>.wrapper_func\u001b[0;34m(self, *args, **kwargs)\u001b[0m\n",
      "\u001b[1;32m     48\u001b[0m \u001b[39mdef\u001b[39;00m \u001b[39mwrapper_func\u001b[39m(\u001b[39mself\u001b[39m, \u001b[39m*\u001b[39margs: t\u001b[39m.\u001b[39mAny, \u001b[39m*\u001b[39m\u001b[39m*\u001b[39mkwargs: t\u001b[39m.\u001b[39mAny) \u001b[39m-\u001b[39m\u001b[39m>\u001b[39m t\u001b[39m.\u001b[39mAny:\n",
      "\u001b[1;32m     49\u001b[0m     \u001b[39mself\u001b[39m\u001b[39m.\u001b[39m_check_setup_finished(f_name)\n",
      "\u001b[0;32m---> 50\u001b[0m     \u001b[39mreturn\u001b[39;00m f(\u001b[39mself\u001b[39;49m, \u001b[39m*\u001b[39;49margs, \u001b[39m*\u001b[39;49m\u001b[39m*\u001b[39;49mkwargs)\n",
      "\n",
      "File \u001b[0;32m/Library/Frameworks/Python.framework/Versions/3.11/lib/python3.11/site-packages/flask/app.py:1351\u001b[0m, in \u001b[0;36mFlask.add_url_rule\u001b[0;34m(self, rule, endpoint, view_func, provide_automatic_options, **options)\u001b[0m\n",
      "\u001b[1;32m   1348\u001b[0m \u001b[39m# Add the required methods now.\u001b[39;00m\n",
      "\u001b[1;32m   1349\u001b[0m methods \u001b[39m|\u001b[39m\u001b[39m=\u001b[39m required_methods\n",
      "\u001b[0;32m-> 1351\u001b[0m rule \u001b[39m=\u001b[39m \u001b[39mself\u001b[39;49m\u001b[39m.\u001b[39;49murl_rule_class(rule, methods\u001b[39m=\u001b[39;49mmethods, \u001b[39m*\u001b[39;49m\u001b[39m*\u001b[39;49moptions)\n",
      "\u001b[1;32m   1352\u001b[0m rule\u001b[39m.\u001b[39mprovide_automatic_options \u001b[39m=\u001b[39m provide_automatic_options  \u001b[39m# type: ignore\u001b[39;00m\n",
      "\u001b[1;32m   1354\u001b[0m \u001b[39mself\u001b[39m\u001b[39m.\u001b[39murl_map\u001b[39m.\u001b[39madd(rule)\n",
      "\n",
      "File \u001b[0;32m/Library/Frameworks/Python.framework/Versions/3.11/lib/python3.11/site-packages/werkzeug/routing/rules.py:454\u001b[0m, in \u001b[0;36mRule.__init__\u001b[0;34m(self, string, defaults, subdomain, methods, build_only, endpoint, strict_slashes, merge_slashes, redirect_to, alias, host, websocket)\u001b[0m\n",
      "\u001b[1;32m    438\u001b[0m \u001b[39mdef\u001b[39;00m \u001b[39m__init__\u001b[39m(\n",
      "\u001b[1;32m    439\u001b[0m     \u001b[39mself\u001b[39m,\n",
      "\u001b[1;32m    440\u001b[0m     string: \u001b[39mstr\u001b[39m,\n",
      "\u001b[0;32m   (...)\u001b[0m\n",
      "\u001b[1;32m    451\u001b[0m     websocket: \u001b[39mbool\u001b[39m \u001b[39m=\u001b[39m \u001b[39mFalse\u001b[39;00m,\n",
      "\u001b[1;32m    452\u001b[0m ) \u001b[39m-\u001b[39m\u001b[39m>\u001b[39m \u001b[39mNone\u001b[39;00m:\n",
      "\u001b[1;32m    453\u001b[0m     \u001b[39mif\u001b[39;00m \u001b[39mnot\u001b[39;00m string\u001b[39m.\u001b[39mstartswith(\u001b[39m\"\u001b[39m\u001b[39m/\u001b[39m\u001b[39m\"\u001b[39m):\n",
      "\u001b[0;32m--> 454\u001b[0m         \u001b[39mraise\u001b[39;00m \u001b[39mValueError\u001b[39;00m(\u001b[39m\"\u001b[39m\u001b[39murls must start with a leading slash\u001b[39m\u001b[39m\"\u001b[39m)\n",
      "\u001b[1;32m    455\u001b[0m     \u001b[39mself\u001b[39m\u001b[39m.\u001b[39mrule \u001b[39m=\u001b[39m string\n",
      "\u001b[1;32m    456\u001b[0m     \u001b[39mself\u001b[39m\u001b[39m.\u001b[39mis_leaf \u001b[39m=\u001b[39m \u001b[39mnot\u001b[39;00m string\u001b[39m.\u001b[39mendswith(\u001b[39m\"\u001b[39m\u001b[39m/\u001b[39m\u001b[39m\"\u001b[39m)\n",
      "\n",
      "\u001b[0;31mValueError\u001b[0m: urls must start with a leading slash"
     ]
    }
   ],
   "source": [
    "from datetime import date\n",
    "from flask import Flask\n",
    "\n",
    "app = Flask(__name__)\n",
    "\n",
    "\n",
    "@app.route(\"/today/\")\n",
    "def today():\n",
    "    today = date.today()\n",
    "    return f'''<h1 style = \"font-style: italic; color: #FA7080\">Today's date is {today.day}.{today.month}.{today.year}'''\n",
    "\n",
    "\n",
    "@app.route(\"/tommorow/\")\n",
    "def hello_world():\n",
    "    tommorow = date.fromordinal(date.today().toordinal()+1)\n",
    "    return f'''<h1 style = \"font-style: italic; color: #6A48D7\">Tomorrow's date is {tommorow.day}.{tommorow.month}.{tommorow.year}'''\n",
    "\n",
    "app.run(\"0.0.0.0\", 8000)"
   ]
  }
 ],
 "metadata": {
  "kernelspec": {
   "display_name": "Python 3",
   "language": "python",
   "name": "python3"
  },
  "language_info": {
   "codemirror_mode": {
    "name": "ipython",
    "version": 3
   },
   "file_extension": ".py",
   "mimetype": "text/x-python",
   "name": "python",
   "nbconvert_exporter": "python",
   "pygments_lexer": "ipython3",
   "version": "3.11.0"
  },
  "orig_nbformat": 4
 },
 "nbformat": 4,
 "nbformat_minor": 2
}
